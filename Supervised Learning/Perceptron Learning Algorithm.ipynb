{
 "cells": [
  {
   "cell_type": "markdown",
   "metadata": {},
   "source": [
    "## 1. Data Generation \n"
   ]
  },
  {
   "cell_type": "code",
   "execution_count": 10,
   "metadata": {},
   "outputs": [
    {
     "data": {
      "image/png": "[encoded data removed]",
      "text/plain": [
       "<Figure size 432x288 with 1 Axes>"
      ]
     },
     "metadata": {
      "needs_background": "light"
     },
     "output_type": "display_data"
    }
   ],
   "source": [
    "import numpy as np \n",
    "import matplotlib.pyplot as plt \n",
    "\n",
    "N = 20\n",
    "m1 = [5,1]\n",
    "m2 = [-5, -3]\n",
    "s = np.array([[1.,0.],[0.,1.]])\n",
    "X1 = np.random.multivariate_normal(m1,s, N).T\n",
    "X2 = np.random.multivariate_normal(m2,s, N).T \n",
    "\n",
    "X = np.concatenate((X1,X2), axis = 1)\n",
    "y = np.array([1.]*N + [-1.]*N)\n",
    "plt.plot(X1[0,:],X1[1,:],'rx')\n",
    "plt.plot(X2[0,:],X2[1,:],'bo')\n",
    "plt.show()"
   ]
  },
  {
   "cell_type": "markdown",
   "metadata": {},
   "source": [
    "## 2. Math "
   ]
  },
  {
   "cell_type": "markdown",
   "metadata": {},
   "source": [
    "### 1. Model \n",
    "$$ y = sgn(w^Tx) $$\n",
    "\n",
    "y = 1  if $w^Tx \\geq 0 $\n",
    "\n",
    "y = -1 if $w^Tx < 0 $\n",
    "\n",
    "### 2. Loss Function \n",
    "\n",
    "$$ L(w) = \\sum_{x \\in M} -y(w^T.x) $$  \n",
    "\n",
    "- M is set of misclassified points.\n",
    "- If $(x_i,y_i)$ is a point misclassified then -y(w^Tx) > 0 then Loss function is great if there are many misclassified points. \n",
    "\n",
    "### 3. Derivative at one point $(x_i,y_i)$ \n",
    "\n",
    "$$ \\frac{\\delta L(w,x_i,y_i)}{\\delta w} = -y_ix_i$$ "
   ]
  },
  {
   "cell_type": "markdown",
   "metadata": {},
   "source": [
    "## 3. Programming"
   ]
  },
  {
   "cell_type": "code",
   "execution_count": 20,
   "metadata": {},
   "outputs": [],
   "source": [
    "## initialize w shape (d+1,1)\n",
    "d = X.shape[0]\n",
    "\n",
    "w = np.random.randn(d+1,1)\n",
    "\n",
    "X_hat = np.concatenate((X,np.ones((1,X.shape[1]))),axis = 0)\n",
    "\n",
    "\n",
    "\n",
    "##stochastic gradient descent \n",
    "\n",
    "\n",
    "def has_converge(w,X,y): \n",
    "    error = np.sign(w.T.dot(X) - y) \n",
    "    return np.linalg.norm(error) <= 1e-2\n",
    "def gradient_descent(w,n_iters = 1000,epochs = 10 , eta = 1):\n",
    "    for _ in range(epochs): \n",
    "        shuffle_idx = np.random.permutation(2*N)\n",
    "        for i in shuffle_idx:\n",
    "            x_i = X_hat[:,i]\n",
    "            y_i = y[i]\n",
    "            if y_i*(w.T.dot(x_i)) >0:\n",
    "                continue\n",
    "            w = w + eta*(y_i*w)\n",
    "            if has_converge(w,X_hat,y):\n",
    "                return w\n",
    "    return w \n",
    "            \n",
    "    "
   ]
  },
  {
   "cell_type": "code",
   "execution_count": 21,
   "metadata": {},
   "outputs": [],
   "source": [
    "w_ = gradient_descent(w)"
   ]
  },
  {
   "cell_type": "code",
   "execution_count": 27,
   "metadata": {},
   "outputs": [
    {
     "data": {
      "image/png": "[encoded data removed]",
      "text/plain": [
       "<Figure size 432x288 with 1 Axes>"
      ]
     },
     "metadata": {
      "needs_background": "light"
     },
     "output_type": "display_data"
    }
   ],
   "source": [
    "w1 = w[0,0]\n",
    "w2 = w[1,0]\n",
    "w0 = w[2,0]\n",
    "\n",
    "\n",
    "x1, x2 = -6,8\n",
    "y1 = (-w1*x1 -w0) / w2\n",
    "y2 = (-w1*x2 -w0) / w2\n",
    "\n",
    "plt.plot(X1[0,:],X1[1,:],'rx')\n",
    "plt.plot(X2[0,:],X2[1,:],'bo')\n",
    "plt.plot([x1,x2],[y1,y2])\n",
    "plt.show()"
   ]
  },
  {
   "cell_type": "code",
   "execution_count": 23,
   "metadata": {},
   "outputs": [
    {
     "data": {
      "text/plain": [
       "array([[ 1.,  1.,  1.,  1.,  1.,  1.,  1.,  1.,  1.,  1.,  1.,  1.,  1.,\n",
       "         1.,  1.,  1.,  1.,  1.,  1.,  1., -1., -1., -1., -1., -1., -1.,\n",
       "        -1., -1., -1., -1., -1., -1., -1., -1., -1., -1., -1., -1., -1.,\n",
       "        -1.]])"
      ]
     },
     "execution_count": 23,
     "metadata": {},
     "output_type": "execute_result"
    }
   ],
   "source": [
    "np.sign(w_.T.dot(X_hat))"
   ]
  },
  {
   "cell_type": "code",
   "execution_count": 34,
   "metadata": {},
   "outputs": [
    {
     "data": {
      "text/plain": [
       "array([[ 0.4376637 ],\n",
       "       [ 0.96132346],\n",
       "       [-0.27159861]])"
      ]
     },
     "execution_count": 34,
     "metadata": {},
     "output_type": "execute_result"
    }
   ],
   "source": [
    "w_ "
   ]
  },
  {
   "cell_type": "code",
   "execution_count": 31,
   "metadata": {},
   "outputs": [
    {
     "data": {
      "text/plain": [
       "Perceptron(alpha=0.0001, class_weight=None, early_stopping=False, eta0=1,\n",
       "      fit_intercept=True, max_iter=None, n_iter=1000, n_iter_no_change=5,\n",
       "      n_jobs=None, penalty=None, random_state=0, shuffle=True, tol=0.01,\n",
       "      validation_fraction=0.1, verbose=0, warm_start=False)"
      ]
     },
     "execution_count": 31,
     "metadata": {},
     "output_type": "execute_result"
    }
   ],
   "source": [
    "## Check with scikit learn \n",
    "\n",
    "from sklearn.linear_model import Perceptron\n",
    "\n",
    "pct = Perceptron(tol = 1e-2, eta0= 1,n_iter=1000)\n",
    "\n",
    "pct.fit(X.T,y)"
   ]
  },
  {
   "cell_type": "code",
   "execution_count": 32,
   "metadata": {},
   "outputs": [
    {
     "data": {
      "text/plain": [
       "array([[4.84275694, 0.25872077]])"
      ]
     },
     "execution_count": 32,
     "metadata": {},
     "output_type": "execute_result"
    }
   ],
   "source": [
    "pct.coef_"
   ]
  },
  {
   "cell_type": "code",
   "execution_count": 33,
   "metadata": {},
   "outputs": [
    {
     "data": {
      "text/plain": [
       "array([1.])"
      ]
     },
     "execution_count": 33,
     "metadata": {},
     "output_type": "execute_result"
    }
   ],
   "source": [
    "pct.intercept_"
   ]
  },
  {
   "cell_type": "code",
   "execution_count": null,
   "metadata": {},
   "outputs": [],
   "source": []
  }
 ],
 "metadata": {
  "kernelspec": {
   "display_name": "Python 3",
   "language": "python",
   "name": "python3"
  },
  "language_info": {
   "codemirror_mode": {
    "name": "ipython",
    "version": 3
   },
   "file_extension": ".py",
   "mimetype": "text/x-python",
   "name": "python",
   "nbconvert_exporter": "python",
   "pygments_lexer": "ipython3",
   "version": "3.7.3"
  }
 },
 "nbformat": 4,
 "nbformat_minor": 2
}
