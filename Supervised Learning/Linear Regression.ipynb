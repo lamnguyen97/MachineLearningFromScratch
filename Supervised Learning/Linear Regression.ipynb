{
 "cells": [
  {
   "cell_type": "markdown",
   "metadata": {},
   "source": [
    "## 1. Data Generation"
   ]
  },
  {
   "cell_type": "code",
   "execution_count": 38,
   "metadata": {},
   "outputs": [
    {
     "name": "stdout",
     "output_type": "stream",
     "text": [
      "w:  1\n",
      "b:  9\n"
     ]
    }
   ],
   "source": [
    "import numpy as np \n",
    "import matplotlib.pyplot as plt \n",
    "\n",
    "N = 50\n",
    "X = np.random.randn(1,N)\n",
    "\n",
    "w = np.random.randint(1,10)\n",
    "b = np.random.randint(1,10)\n",
    "y = w*X + b + 0.3*np.random.randn(1,N)\n",
    "\n",
    "print(\"w: \", w)\n",
    "print(\"b: \", b)"
   ]
  },
  {
   "cell_type": "code",
   "execution_count": 39,
   "metadata": {},
   "outputs": [
    {
     "data": {
      "image/png": "[encoded data removed]",
      "text/plain": [
       "<Figure size 432x288 with 1 Axes>"
      ]
     },
     "metadata": {
      "needs_background": "light"
     },
     "output_type": "display_data"
    }
   ],
   "source": [
    "plt.plot(X,y,'rx--' )\n",
    "\n",
    "plt.show()"
   ]
  },
  {
   "cell_type": "markdown",
   "metadata": {},
   "source": [
    "## 2. Math "
   ]
  },
  {
   "cell_type": "markdown",
   "metadata": {},
   "source": [
    "### 1. Model \n",
    "\n",
    "$ y = w^T.X +b = w^T.\\bar{X}$ \n",
    "\n",
    "### 2. Loss function \n",
    "\n",
    "$ L(w) = \\frac{1}{2}||\\bar{X}.w - \\hat{y}||_2^2 $\n",
    "\n",
    "### 3. Derivative\n",
    "\n",
    "$ \\frac{\\delta L}{\\delta w} = \\bar{X}^T(\\bar{X}.w -y) $\n",
    "\n",
    "- Solving derivative equal 0: \n",
    "\n",
    "$ w = (\\bar{X}^T\\bar{X})^{-1}\\bar{X^T}y $"
   ]
  },
  {
   "cell_type": "markdown",
   "metadata": {},
   "source": [
    "## 3. Code "
   ]
  },
  {
   "cell_type": "code",
   "execution_count": 62,
   "metadata": {},
   "outputs": [],
   "source": [
    "y = y.T "
   ]
  },
  {
   "cell_type": "code",
   "execution_count": 63,
   "metadata": {},
   "outputs": [],
   "source": [
    "X_bar = np.concatenate((X, np.ones((1,X.shape[1]))),axis = 0).T\n",
    "\n",
    "A = X_bar.T.dot(X_bar)\n",
    "\n",
    "b = X_bar.T.dot(y)"
   ]
  },
  {
   "cell_type": "code",
   "execution_count": 64,
   "metadata": {},
   "outputs": [
    {
     "data": {
      "text/plain": [
       "array([[0.99447429],\n",
       "       [8.99403917]])"
      ]
     },
     "execution_count": 64,
     "metadata": {},
     "output_type": "execute_result"
    }
   ],
   "source": [
    "w_ = np.linalg.pinv(A).dot(b)\n",
    "\n",
    "w_"
   ]
  },
  {
   "cell_type": "code",
   "execution_count": 65,
   "metadata": {},
   "outputs": [
    {
     "name": "stdout",
     "output_type": "stream",
     "text": [
      "w calculated:  [0.99447429]\n",
      "b calculated:  [8.99403917]\n"
     ]
    }
   ],
   "source": [
    "print('w calculated: ', w_[0,:])\n",
    "print('b calculated: ', w_[1,:])"
   ]
  },
  {
   "cell_type": "code",
   "execution_count": 72,
   "metadata": {},
   "outputs": [
    {
     "data": {
      "image/png": "[encoded data removed]",
      "text/plain": [
       "<Figure size 432x288 with 1 Axes>"
      ]
     },
     "metadata": {
      "needs_background": "light"
     },
     "output_type": "display_data"
    }
   ],
   "source": [
    "plt.plot(X,y.T,'rx--' )\n",
    "\n",
    "x_plot = np.array([[-2,3],[1,1]])\n",
    "y_plot = w_.T.dot(x_plot)\n",
    "plt.plot(x_plot[0,:], y_plot.flatten())\n",
    "plt.show()"
   ]
  },
  {
   "cell_type": "code",
   "execution_count": null,
   "metadata": {},
   "outputs": [],
   "source": []
  }
 ],
 "metadata": {
  "kernelspec": {
   "display_name": "Python 3",
   "language": "python",
   "name": "python3"
  },
  "language_info": {
   "codemirror_mode": {
    "name": "ipython",
    "version": 3
   },
   "file_extension": ".py",
   "mimetype": "text/x-python",
   "name": "python",
   "nbconvert_exporter": "python",
   "pygments_lexer": "ipython3",
   "version": "3.7.3"
  }
 },
 "nbformat": 4,
 "nbformat_minor": 2
}
